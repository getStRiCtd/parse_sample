{
 "cells": [
  {
   "cell_type": "code",
   "execution_count": null,
   "metadata": {},
   "outputs": [],
   "source": [
    "import time\n",
    "from selenium import webdriver\n",
    "from selenium.webdriver.common.by import By\n",
    "\n",
    "\n",
    "from selenium.common.exceptions import TimeoutException\n",
    "\n",
    "t = time.time()\n",
    "\n",
    "\n",
    "SITE = \"https://hh.ru/?customDomain=1\"\n",
    "PAUSE_DURATION_SECONDS = 5\n",
    "\n",
    "chrome_options = webdriver.ChromeOptions()\n",
    "chrome_options.add_argument(\"--disable-blink-features=AutomationControlled\")\n",
    "chrome_options.set_capability(\"pageLoadStrategy\", \"eager\")"
   ]
  },
  {
   "cell_type": "code",
   "execution_count": null,
   "metadata": {},
   "outputs": [],
   "source": [
    "search_bar_xpath = \"/html/body/div[4]/div/div/div[4]/div[1]/div[1]/div/div/div[2]/div/form/div/div[1]/fieldset/input\"\n",
    "find_job_button = \"/html/body/div[4]/div/div/div[4]/div[1]/div[1]/div/div/div[2]/div/form/div/div[2]/button/span/span[2]\"\n",
    "close_button_xpath = \"/html/body/div[12]/div/div[3]\"\n",
    "\n",
    "expirence_range = \"/html/body/div[5]/div/div/div[4]/div[1]/div[1]/div[3]/div[1]/div[1]/div/div/aside/div[12]/div[1]/fieldset/div[2]/li[3]\""
   ]
  },
  {
   "cell_type": "code",
   "execution_count": null,
   "metadata": {},
   "outputs": [],
   "source": [
    "browser = webdriver.Chrome(options=chrome_options)\n",
    "browser.get(SITE)\n",
    "time.sleep(2)\n",
    "\n",
    "browser.find_element(By.XPATH, search_bar_xpath).send_keys(\"Data Scientist\")\n",
    "time.sleep(2)\n",
    "browser.find_element(By.XPATH, find_job_button).click()\n",
    "time.sleep(2)\n",
    "browser.find_element(By.XPATH, close_button_xpath).click()\n",
    "time.sleep(2)\n",
    "\n"
   ]
  },
  {
   "cell_type": "code",
   "execution_count": null,
   "metadata": {},
   "outputs": [],
   "source": [
    "from bs4 import BeautifulSoup\n",
    "\n",
    "soup = BeautifulSoup(browser.page_source)\n",
    "\n",
    "vacancies = soup.find_all(\"div\", class_=\"vacancy-serp-item-body__main-info\")\n",
    "for id, vacancy in enumerate(vacancies):\n",
    "    vacancy_href = vacancy.find(\"a\", class_=\"bloko-link\")['href']\n",
    "    print(vacancy_href)\n",
    "    "
   ]
  }
 ],
 "metadata": {
  "kernelspec": {
   "display_name": "Python",
   "language": "python",
   "name": "python3"
  },
  "language_info": {
   "codemirror_mode": {
    "name": "ipython",
    "version": 3
   },
   "file_extension": ".py",
   "mimetype": "text/x-python",
   "name": "python",
   "nbconvert_exporter": "python",
   "pygments_lexer": "ipython3",
   "version": "3.10.4"
  }
 },
 "nbformat": 4,
 "nbformat_minor": 2
}
